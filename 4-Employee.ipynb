{
 "cells": [
  {
   "cell_type": "markdown",
   "id": "8b1be3a7",
   "metadata": {},
   "source": [
    "DataLink -: https://drive.google.com/file/d/1MRpw9qRtUewILQyTOvNKuZbkN3R45dGY/view?usp=sharing"
   ]
  },
  {
   "cell_type": "markdown",
   "id": "307c5b16",
   "metadata": {},
   "source": [
    "### Exploratory Data Analysis\n",
    "\n",
    "- What is the avg age of the employees\n",
    "- What is the Median Age of the employees in the organization\n",
    "- what is the avg age of the employees working in Accounts department\n",
    "- What is the avg age are of the employees working in Hr department\n",
    "- What is the max & min age of the employees in the orangization\n",
    "- What is the avg age of the employees working in SDE department in USA\n",
    "- What is the avg age of the employees working in Admin department in Canada\n",
    "- What is the name of most senior employee with respect to age?\n",
    "- What is the name of the most senior employee with respect to working duration?\n",
    "- What is the salary of the employee whose name is Maria Williams\n",
    "- What is the salary of the employee whose Virginia Hogan\tand age is 30\n",
    "- What are the different departments, this organization has?\n",
    "- What are total frequency of the employees with respect to each department?\n",
    "- What percentage of employee work in SDE deparment\n",
    "- What is the average rating of an employee with respect to each department\n",
    "- what is the average salary of an employee with respect to each country\n",
    "- What is the average salary of SDE profile with respect to each country\n",
    "- What is the average salary of the employee who take taken the loan\n",
    "- What are the top 5 domain name used in Employee email id's"
   ]
  },
  {
   "cell_type": "code",
   "execution_count": 1,
   "id": "2d6be5c7",
   "metadata": {},
   "outputs": [],
   "source": [
    "import numpy as np\n",
    "import pandas as pd\n",
    "import seaborn as sns\n",
    "import matplotlib.pyplot as plt\n",
    "%matplotlib inline\n",
    "import warnings\n",
    "warnings.filterwarnings('ignore')"
   ]
  },
  {
   "cell_type": "code",
   "execution_count": 2,
   "id": "0a043f3e",
   "metadata": {},
   "outputs": [
    {
     "data": {
      "text/html": [
       "<div>\n",
       "<style scoped>\n",
       "    .dataframe tbody tr th:only-of-type {\n",
       "        vertical-align: middle;\n",
       "    }\n",
       "\n",
       "    .dataframe tbody tr th {\n",
       "        vertical-align: top;\n",
       "    }\n",
       "\n",
       "    .dataframe thead th {\n",
       "        text-align: right;\n",
       "    }\n",
       "</style>\n",
       "<table border=\"1\" class=\"dataframe\">\n",
       "  <thead>\n",
       "    <tr style=\"text-align: right;\">\n",
       "      <th></th>\n",
       "      <th>Id</th>\n",
       "      <th>Name</th>\n",
       "      <th>Age</th>\n",
       "      <th>Base Pay</th>\n",
       "      <th>OverTime Pay</th>\n",
       "      <th>Benefits</th>\n",
       "      <th>Total Pay benefits</th>\n",
       "      <th>Loan</th>\n",
       "      <th>Department</th>\n",
       "      <th>Duration</th>\n",
       "      <th>Rating</th>\n",
       "      <th>Email</th>\n",
       "      <th>State</th>\n",
       "      <th>Country</th>\n",
       "    </tr>\n",
       "  </thead>\n",
       "  <tbody>\n",
       "    <tr>\n",
       "      <th>0</th>\n",
       "      <td>1</td>\n",
       "      <td>Marcia Stephens</td>\n",
       "      <td>22</td>\n",
       "      <td>120000</td>\n",
       "      <td>60000.0</td>\n",
       "      <td>15000.0</td>\n",
       "      <td>195000.0</td>\n",
       "      <td>No</td>\n",
       "      <td>SDE</td>\n",
       "      <td>7</td>\n",
       "      <td>8.2</td>\n",
       "      <td>['marcia.stephens@reddit.com']</td>\n",
       "      <td>colarado</td>\n",
       "      <td>USA</td>\n",
       "    </tr>\n",
       "    <tr>\n",
       "      <th>1</th>\n",
       "      <td>2</td>\n",
       "      <td>Karen Lopez</td>\n",
       "      <td>22</td>\n",
       "      <td>120000</td>\n",
       "      <td>60000.0</td>\n",
       "      <td>15000.0</td>\n",
       "      <td>195000.0</td>\n",
       "      <td>No</td>\n",
       "      <td>SDE-T</td>\n",
       "      <td>6</td>\n",
       "      <td>9.3</td>\n",
       "      <td>['karen.lopez@gmail.com']</td>\n",
       "      <td>taxes</td>\n",
       "      <td>USA</td>\n",
       "    </tr>\n",
       "    <tr>\n",
       "      <th>2</th>\n",
       "      <td>3</td>\n",
       "      <td>Heather Reilly</td>\n",
       "      <td>22</td>\n",
       "      <td>60000</td>\n",
       "      <td>30000.0</td>\n",
       "      <td>7500.0</td>\n",
       "      <td>97500.0</td>\n",
       "      <td>No</td>\n",
       "      <td>SDE</td>\n",
       "      <td>5</td>\n",
       "      <td>6.6</td>\n",
       "      <td>['heather.reilly@hotmail.com']</td>\n",
       "      <td>NewBrunswick</td>\n",
       "      <td>Canada</td>\n",
       "    </tr>\n",
       "    <tr>\n",
       "      <th>3</th>\n",
       "      <td>4</td>\n",
       "      <td>Cindy Leblanc</td>\n",
       "      <td>32</td>\n",
       "      <td>70000</td>\n",
       "      <td>35000.0</td>\n",
       "      <td>8750.0</td>\n",
       "      <td>113750.0</td>\n",
       "      <td>No</td>\n",
       "      <td>Admin</td>\n",
       "      <td>1</td>\n",
       "      <td>8.0</td>\n",
       "      <td>['cindy.leblanc@hotmail.com']</td>\n",
       "      <td>colarado</td>\n",
       "      <td>USA</td>\n",
       "    </tr>\n",
       "    <tr>\n",
       "      <th>4</th>\n",
       "      <td>5</td>\n",
       "      <td>Colin Richardson</td>\n",
       "      <td>22</td>\n",
       "      <td>120000</td>\n",
       "      <td>60000.0</td>\n",
       "      <td>15000.0</td>\n",
       "      <td>195000.0</td>\n",
       "      <td>Yes</td>\n",
       "      <td>SDE</td>\n",
       "      <td>3</td>\n",
       "      <td>5.7</td>\n",
       "      <td>['colin.richardson@yahoo.com']</td>\n",
       "      <td>altai</td>\n",
       "      <td>Russia</td>\n",
       "    </tr>\n",
       "  </tbody>\n",
       "</table>\n",
       "</div>"
      ],
      "text/plain": [
       "   Id              Name  Age  Base Pay  OverTime Pay  Benefits  \\\n",
       "0   1   Marcia Stephens   22    120000       60000.0   15000.0   \n",
       "1   2       Karen Lopez   22    120000       60000.0   15000.0   \n",
       "2   3    Heather Reilly   22     60000       30000.0    7500.0   \n",
       "3   4     Cindy Leblanc   32     70000       35000.0    8750.0   \n",
       "4   5  Colin Richardson   22    120000       60000.0   15000.0   \n",
       "\n",
       "   Total Pay benefits Loan Department  Duration  Rating  \\\n",
       "0            195000.0   No        SDE         7     8.2   \n",
       "1            195000.0   No      SDE-T         6     9.3   \n",
       "2             97500.0   No        SDE         5     6.6   \n",
       "3            113750.0   No      Admin         1     8.0   \n",
       "4            195000.0  Yes        SDE         3     5.7   \n",
       "\n",
       "                            Email         State Country  \n",
       "0  ['marcia.stephens@reddit.com']      colarado     USA  \n",
       "1       ['karen.lopez@gmail.com']         taxes     USA  \n",
       "2  ['heather.reilly@hotmail.com']  NewBrunswick  Canada  \n",
       "3   ['cindy.leblanc@hotmail.com']      colarado     USA  \n",
       "4  ['colin.richardson@yahoo.com']         altai  Russia  "
      ]
     },
     "execution_count": 2,
     "metadata": {},
     "output_type": "execute_result"
    }
   ],
   "source": [
    "df = pd.read_csv('Employees.csv')\n",
    "df.head()"
   ]
  },
  {
   "cell_type": "code",
   "execution_count": 3,
   "id": "0077be80",
   "metadata": {},
   "outputs": [
    {
     "data": {
      "text/plain": [
       "(1000, 14)"
      ]
     },
     "execution_count": 3,
     "metadata": {},
     "output_type": "execute_result"
    }
   ],
   "source": [
    "df.shape"
   ]
  },
  {
   "cell_type": "markdown",
   "id": "eded380d",
   "metadata": {},
   "source": [
    "1. What is the avg age of the employees"
   ]
  },
  {
   "cell_type": "code",
   "execution_count": 4,
   "id": "4b52b967",
   "metadata": {},
   "outputs": [
    {
     "data": {
      "text/plain": [
       "31.836"
      ]
     },
     "execution_count": 4,
     "metadata": {},
     "output_type": "execute_result"
    }
   ],
   "source": [
    "df['Age'].mean()"
   ]
  },
  {
   "cell_type": "markdown",
   "id": "8181c4a6",
   "metadata": {},
   "source": [
    "2. What is the Median Age of the employees in the organization"
   ]
  },
  {
   "cell_type": "code",
   "execution_count": 5,
   "id": "1b324a88",
   "metadata": {},
   "outputs": [
    {
     "data": {
      "text/plain": [
       "30.0"
      ]
     },
     "execution_count": 5,
     "metadata": {},
     "output_type": "execute_result"
    }
   ],
   "source": [
    "df['Age'].median()"
   ]
  },
  {
   "cell_type": "markdown",
   "id": "2112e0ca",
   "metadata": {},
   "source": [
    "3. what is the avg age of the employees working in Accounts department"
   ]
  },
  {
   "cell_type": "code",
   "execution_count": 6,
   "id": "20033df3",
   "metadata": {},
   "outputs": [
    {
     "data": {
      "text/plain": [
       "31.23076923076923"
      ]
     },
     "execution_count": 6,
     "metadata": {},
     "output_type": "execute_result"
    }
   ],
   "source": [
    "df.groupby('Department').get_group('Accounts')['Age'].mean()"
   ]
  },
  {
   "cell_type": "markdown",
   "id": "f0d33d26",
   "metadata": {},
   "source": [
    "4. What is the avg age are of the employees working in Hr department"
   ]
  },
  {
   "cell_type": "code",
   "execution_count": 7,
   "id": "fc9a5dc3",
   "metadata": {},
   "outputs": [
    {
     "data": {
      "text/plain": [
       "31.28846153846154"
      ]
     },
     "execution_count": 7,
     "metadata": {},
     "output_type": "execute_result"
    }
   ],
   "source": [
    "df.groupby('Department').get_group('Hr')['Age'].mean()"
   ]
  },
  {
   "cell_type": "markdown",
   "id": "4e61e0f7",
   "metadata": {},
   "source": [
    "5. What is the max & min age of the employees in the orangization"
   ]
  },
  {
   "cell_type": "code",
   "execution_count": 8,
   "id": "bbbdc483",
   "metadata": {},
   "outputs": [
    {
     "name": "stdout",
     "output_type": "stream",
     "text": [
      "minimum age= 22\n",
      "maximum age= 55\n"
     ]
    }
   ],
   "source": [
    "print('minimum age=',df.Age.min())\n",
    "print('maximum age=',df.Age.max())"
   ]
  },
  {
   "cell_type": "markdown",
   "id": "4505d66c",
   "metadata": {},
   "source": [
    "6. What is the avg age of the employees working in SDE department in USA"
   ]
  },
  {
   "cell_type": "code",
   "execution_count": 9,
   "id": "9c49eae8",
   "metadata": {},
   "outputs": [
    {
     "data": {
      "text/plain": [
       "Department\n",
       "Accounts      65\n",
       "Admin         53\n",
       "Hr            52\n",
       "Logistics    158\n",
       "SDE          497\n",
       "SDE-T        175\n",
       "dtype: int64"
      ]
     },
     "execution_count": 9,
     "metadata": {},
     "output_type": "execute_result"
    }
   ],
   "source": [
    "df.groupby('Department').size()"
   ]
  },
  {
   "cell_type": "code",
   "execution_count": 10,
   "id": "e82699cc",
   "metadata": {},
   "outputs": [
    {
     "data": {
      "text/plain": [
       "31.613682092555333"
      ]
     },
     "execution_count": 10,
     "metadata": {},
     "output_type": "execute_result"
    }
   ],
   "source": [
    "df.groupby('Department').get_group('SDE')['Age'].mean()"
   ]
  },
  {
   "cell_type": "markdown",
   "id": "121b2052",
   "metadata": {},
   "source": [
    "7. What is the avg age of the employees working in Admin department in Canada"
   ]
  },
  {
   "cell_type": "code",
   "execution_count": 11,
   "id": "efc177f8",
   "metadata": {},
   "outputs": [
    {
     "data": {
      "text/plain": [
       "Department  Country       \n",
       "Accounts    Canada             17\n",
       "            Russia             14\n",
       "            USA                21\n",
       "            United Kingdom     13\n",
       "Admin       Canada             11\n",
       "            Russia             17\n",
       "            USA                15\n",
       "            United Kingdom     10\n",
       "Hr          Canada             12\n",
       "            Russia             17\n",
       "            USA                13\n",
       "            United Kingdom     10\n",
       "Logistics   Canada             37\n",
       "            Russia             39\n",
       "            USA                42\n",
       "            United Kingdom     40\n",
       "SDE         Canada            123\n",
       "            Russia            119\n",
       "            USA               132\n",
       "            United Kingdom    123\n",
       "SDE-T       Canada             49\n",
       "            Russia             39\n",
       "            USA                51\n",
       "            United Kingdom     36\n",
       "dtype: int64"
      ]
     },
     "execution_count": 11,
     "metadata": {},
     "output_type": "execute_result"
    }
   ],
   "source": [
    "df.groupby(['Department','Country']).size()"
   ]
  },
  {
   "cell_type": "code",
   "execution_count": 12,
   "id": "b0d0a142",
   "metadata": {},
   "outputs": [
    {
     "data": {
      "text/plain": [
       "32.18181818181818"
      ]
     },
     "execution_count": 12,
     "metadata": {},
     "output_type": "execute_result"
    }
   ],
   "source": [
    "df.groupby(['Department','Country']).get_group(('Admin','Canada'))['Age'].mean()"
   ]
  },
  {
   "cell_type": "markdown",
   "id": "19ae088c",
   "metadata": {},
   "source": [
    "8. What is the name of most senior employee with respect to age?"
   ]
  },
  {
   "cell_type": "code",
   "execution_count": 24,
   "id": "6160ffd6",
   "metadata": {},
   "outputs": [
    {
     "data": {
      "text/plain": [
       "Age\n",
       "22    333\n",
       "27    107\n",
       "30    105\n",
       "32     99\n",
       "37    109\n",
       "40     74\n",
       "43     67\n",
       "48     28\n",
       "50     41\n",
       "55     37\n",
       "Name: Name, dtype: int64"
      ]
     },
     "execution_count": 24,
     "metadata": {},
     "output_type": "execute_result"
    }
   ],
   "source": [
    "df.groupby('Age')['Name'].size()"
   ]
  },
  {
   "cell_type": "code",
   "execution_count": 88,
   "id": "01a3d6d3",
   "metadata": {},
   "outputs": [
    {
     "data": {
      "text/plain": [
       "15           Megan Chambers\n",
       "35              Erik Sutton\n",
       "42           Michael Cooper\n",
       "97             Frank Taylor\n",
       "124         Harold Johnston\n",
       "132           Audrey Barber\n",
       "173          Kayla Franklin\n",
       "186          Crystal Bryant\n",
       "204          Denise Manning\n",
       "213              Mark Hardy\n",
       "239       Dr. Ryan Mitchell\n",
       "290               Dawn Vega\n",
       "320          Benjamin Brown\n",
       "353    Mr. Nathan Underwood\n",
       "387            Nathan Brown\n",
       "419           Jessica Miles\n",
       "457             Jamie Moody\n",
       "466              Megan Rowe\n",
       "468            Ashley Lopez\n",
       "490            Danny Franco\n",
       "527           Larry Shepard\n",
       "561              John Smith\n",
       "678           Aaron Douglas\n",
       "688           Joseph Spears\n",
       "696          Anthony Barnes\n",
       "711           Hannah Forbes\n",
       "715             Lauren York\n",
       "729             Kara Murphy\n",
       "741             Robert Ball\n",
       "759         Charlotte Ramos\n",
       "772             Austin Cook\n",
       "889            Wendy Norton\n",
       "922            Taylor Garza\n",
       "940             Karen White\n",
       "989             Karen Lucas\n",
       "990            Patrick Lane\n",
       "991       Elizabeth Wheeler\n",
       "Name: Name, dtype: object"
      ]
     },
     "execution_count": 88,
     "metadata": {},
     "output_type": "execute_result"
    }
   ],
   "source": [
    "df.groupby('Age')['Name'].get_group(df['Age'].max())"
   ]
  },
  {
   "cell_type": "code",
   "execution_count": 18,
   "id": "51fa4aed",
   "metadata": {
    "collapsed": true
   },
   "outputs": [
    {
     "data": {
      "text/html": [
       "<div>\n",
       "<style scoped>\n",
       "    .dataframe tbody tr th:only-of-type {\n",
       "        vertical-align: middle;\n",
       "    }\n",
       "\n",
       "    .dataframe tbody tr th {\n",
       "        vertical-align: top;\n",
       "    }\n",
       "\n",
       "    .dataframe thead th {\n",
       "        text-align: right;\n",
       "    }\n",
       "</style>\n",
       "<table border=\"1\" class=\"dataframe\">\n",
       "  <thead>\n",
       "    <tr style=\"text-align: right;\">\n",
       "      <th></th>\n",
       "      <th>Id</th>\n",
       "      <th>Name</th>\n",
       "      <th>Age</th>\n",
       "      <th>Base Pay</th>\n",
       "      <th>OverTime Pay</th>\n",
       "      <th>Benefits</th>\n",
       "      <th>Total Pay benefits</th>\n",
       "      <th>Loan</th>\n",
       "      <th>Department</th>\n",
       "      <th>Duration</th>\n",
       "      <th>Rating</th>\n",
       "      <th>Email</th>\n",
       "      <th>State</th>\n",
       "      <th>Country</th>\n",
       "    </tr>\n",
       "  </thead>\n",
       "  <tbody>\n",
       "    <tr>\n",
       "      <th>15</th>\n",
       "      <td>16</td>\n",
       "      <td>Megan Chambers</td>\n",
       "      <td>55</td>\n",
       "      <td>80000</td>\n",
       "      <td>40000.0</td>\n",
       "      <td>10000.0</td>\n",
       "      <td>130000.0</td>\n",
       "      <td>No</td>\n",
       "      <td>SDE</td>\n",
       "      <td>2</td>\n",
       "      <td>5.7</td>\n",
       "      <td>['megan.chambers@reddit.com']</td>\n",
       "      <td>Alberta</td>\n",
       "      <td>Canada</td>\n",
       "    </tr>\n",
       "    <tr>\n",
       "      <th>35</th>\n",
       "      <td>36</td>\n",
       "      <td>Erik Sutton</td>\n",
       "      <td>55</td>\n",
       "      <td>110000</td>\n",
       "      <td>55000.0</td>\n",
       "      <td>13750.0</td>\n",
       "      <td>178750.0</td>\n",
       "      <td>No</td>\n",
       "      <td>SDE-T</td>\n",
       "      <td>7</td>\n",
       "      <td>9.3</td>\n",
       "      <td>['erik.sutton@hotmail.com']</td>\n",
       "      <td>NewBrunswick</td>\n",
       "      <td>Canada</td>\n",
       "    </tr>\n",
       "    <tr>\n",
       "      <th>42</th>\n",
       "      <td>43</td>\n",
       "      <td>Michael Cooper</td>\n",
       "      <td>55</td>\n",
       "      <td>120000</td>\n",
       "      <td>60000.0</td>\n",
       "      <td>15000.0</td>\n",
       "      <td>195000.0</td>\n",
       "      <td>Yes</td>\n",
       "      <td>SDE</td>\n",
       "      <td>6</td>\n",
       "      <td>5.0</td>\n",
       "      <td>['michael.cooper@outlook.com']</td>\n",
       "      <td>buryatia</td>\n",
       "      <td>Russia</td>\n",
       "    </tr>\n",
       "    <tr>\n",
       "      <th>97</th>\n",
       "      <td>98</td>\n",
       "      <td>Frank Taylor</td>\n",
       "      <td>55</td>\n",
       "      <td>96000</td>\n",
       "      <td>48000.0</td>\n",
       "      <td>12000.0</td>\n",
       "      <td>156000.0</td>\n",
       "      <td>No</td>\n",
       "      <td>SDE</td>\n",
       "      <td>7</td>\n",
       "      <td>8.9</td>\n",
       "      <td>['frank.taylor@yahoo.com']</td>\n",
       "      <td>adygea</td>\n",
       "      <td>Russia</td>\n",
       "    </tr>\n",
       "    <tr>\n",
       "      <th>124</th>\n",
       "      <td>125</td>\n",
       "      <td>Harold Johnston</td>\n",
       "      <td>55</td>\n",
       "      <td>120000</td>\n",
       "      <td>60000.0</td>\n",
       "      <td>15000.0</td>\n",
       "      <td>195000.0</td>\n",
       "      <td>No</td>\n",
       "      <td>SDE</td>\n",
       "      <td>3</td>\n",
       "      <td>8.0</td>\n",
       "      <td>['harold.johnston@outlook.com']</td>\n",
       "      <td>chechnya</td>\n",
       "      <td>Russia</td>\n",
       "    </tr>\n",
       "    <tr>\n",
       "      <th>132</th>\n",
       "      <td>133</td>\n",
       "      <td>Audrey Barber</td>\n",
       "      <td>55</td>\n",
       "      <td>120000</td>\n",
       "      <td>60000.0</td>\n",
       "      <td>15000.0</td>\n",
       "      <td>195000.0</td>\n",
       "      <td>No</td>\n",
       "      <td>Admin</td>\n",
       "      <td>3</td>\n",
       "      <td>9.3</td>\n",
       "      <td>['audrey.barber@reddit.com']</td>\n",
       "      <td>birmingham</td>\n",
       "      <td>United Kingdom</td>\n",
       "    </tr>\n",
       "    <tr>\n",
       "      <th>173</th>\n",
       "      <td>174</td>\n",
       "      <td>Kayla Franklin</td>\n",
       "      <td>55</td>\n",
       "      <td>110000</td>\n",
       "      <td>55000.0</td>\n",
       "      <td>13750.0</td>\n",
       "      <td>178750.0</td>\n",
       "      <td>No</td>\n",
       "      <td>Accounts</td>\n",
       "      <td>6</td>\n",
       "      <td>7.4</td>\n",
       "      <td>['kayla.franklin@gmail.com']</td>\n",
       "      <td>buryatia</td>\n",
       "      <td>Russia</td>\n",
       "    </tr>\n",
       "    <tr>\n",
       "      <th>186</th>\n",
       "      <td>187</td>\n",
       "      <td>Crystal Bryant</td>\n",
       "      <td>55</td>\n",
       "      <td>80000</td>\n",
       "      <td>40000.0</td>\n",
       "      <td>10000.0</td>\n",
       "      <td>130000.0</td>\n",
       "      <td>Yes</td>\n",
       "      <td>SDE-T</td>\n",
       "      <td>4</td>\n",
       "      <td>7.4</td>\n",
       "      <td>['crystal.bryant@yahoo.com']</td>\n",
       "      <td>landom</td>\n",
       "      <td>United Kingdom</td>\n",
       "    </tr>\n",
       "    <tr>\n",
       "      <th>204</th>\n",
       "      <td>205</td>\n",
       "      <td>Denise Manning</td>\n",
       "      <td>55</td>\n",
       "      <td>110000</td>\n",
       "      <td>55000.0</td>\n",
       "      <td>13750.0</td>\n",
       "      <td>178750.0</td>\n",
       "      <td>No</td>\n",
       "      <td>Hr</td>\n",
       "      <td>1</td>\n",
       "      <td>8.2</td>\n",
       "      <td>['denise.manning@reddit.com']</td>\n",
       "      <td>chechnya</td>\n",
       "      <td>Russia</td>\n",
       "    </tr>\n",
       "    <tr>\n",
       "      <th>213</th>\n",
       "      <td>214</td>\n",
       "      <td>Mark Hardy</td>\n",
       "      <td>55</td>\n",
       "      <td>120000</td>\n",
       "      <td>60000.0</td>\n",
       "      <td>15000.0</td>\n",
       "      <td>195000.0</td>\n",
       "      <td>No</td>\n",
       "      <td>SDE-T</td>\n",
       "      <td>5</td>\n",
       "      <td>9.3</td>\n",
       "      <td>['mark.hardy@hotmail.com']</td>\n",
       "      <td>indiana</td>\n",
       "      <td>USA</td>\n",
       "    </tr>\n",
       "    <tr>\n",
       "      <th>239</th>\n",
       "      <td>240</td>\n",
       "      <td>Dr. Ryan Mitchell</td>\n",
       "      <td>55</td>\n",
       "      <td>120000</td>\n",
       "      <td>60000.0</td>\n",
       "      <td>15000.0</td>\n",
       "      <td>195000.0</td>\n",
       "      <td>Yes</td>\n",
       "      <td>SDE-T</td>\n",
       "      <td>2</td>\n",
       "      <td>9.3</td>\n",
       "      <td>['dr..mitchell@hotmail.com']</td>\n",
       "      <td>adygea</td>\n",
       "      <td>Russia</td>\n",
       "    </tr>\n",
       "    <tr>\n",
       "      <th>290</th>\n",
       "      <td>291</td>\n",
       "      <td>Dawn Vega</td>\n",
       "      <td>55</td>\n",
       "      <td>110000</td>\n",
       "      <td>55000.0</td>\n",
       "      <td>13750.0</td>\n",
       "      <td>178750.0</td>\n",
       "      <td>Yes</td>\n",
       "      <td>Hr</td>\n",
       "      <td>7</td>\n",
       "      <td>8.2</td>\n",
       "      <td>['dawn.vega@yahoo.com']</td>\n",
       "      <td>colarado</td>\n",
       "      <td>USA</td>\n",
       "    </tr>\n",
       "    <tr>\n",
       "      <th>320</th>\n",
       "      <td>321</td>\n",
       "      <td>Benjamin Brown</td>\n",
       "      <td>55</td>\n",
       "      <td>90000</td>\n",
       "      <td>45000.0</td>\n",
       "      <td>11250.0</td>\n",
       "      <td>146250.0</td>\n",
       "      <td>Yes</td>\n",
       "      <td>SDE</td>\n",
       "      <td>4</td>\n",
       "      <td>6.6</td>\n",
       "      <td>['benjamin.brown@hotmail.com']</td>\n",
       "      <td>indiana</td>\n",
       "      <td>USA</td>\n",
       "    </tr>\n",
       "    <tr>\n",
       "      <th>353</th>\n",
       "      <td>354</td>\n",
       "      <td>Mr. Nathan Underwood</td>\n",
       "      <td>55</td>\n",
       "      <td>80000</td>\n",
       "      <td>40000.0</td>\n",
       "      <td>10000.0</td>\n",
       "      <td>130000.0</td>\n",
       "      <td>Yes</td>\n",
       "      <td>SDE</td>\n",
       "      <td>2</td>\n",
       "      <td>9.3</td>\n",
       "      <td>['mr..underwood@reddit.com']</td>\n",
       "      <td>indiana</td>\n",
       "      <td>USA</td>\n",
       "    </tr>\n",
       "    <tr>\n",
       "      <th>387</th>\n",
       "      <td>388</td>\n",
       "      <td>Nathan Brown</td>\n",
       "      <td>55</td>\n",
       "      <td>120000</td>\n",
       "      <td>60000.0</td>\n",
       "      <td>15000.0</td>\n",
       "      <td>195000.0</td>\n",
       "      <td>No</td>\n",
       "      <td>SDE-T</td>\n",
       "      <td>5</td>\n",
       "      <td>5.7</td>\n",
       "      <td>['nathan.brown@hotmail.com']</td>\n",
       "      <td>leeds</td>\n",
       "      <td>United Kingdom</td>\n",
       "    </tr>\n",
       "    <tr>\n",
       "      <th>419</th>\n",
       "      <td>420</td>\n",
       "      <td>Jessica Miles</td>\n",
       "      <td>55</td>\n",
       "      <td>50000</td>\n",
       "      <td>25000.0</td>\n",
       "      <td>6250.0</td>\n",
       "      <td>81250.0</td>\n",
       "      <td>No</td>\n",
       "      <td>SDE</td>\n",
       "      <td>3</td>\n",
       "      <td>8.0</td>\n",
       "      <td>['jessica.miles@outlook.com']</td>\n",
       "      <td>utah</td>\n",
       "      <td>USA</td>\n",
       "    </tr>\n",
       "    <tr>\n",
       "      <th>457</th>\n",
       "      <td>458</td>\n",
       "      <td>Jamie Moody</td>\n",
       "      <td>55</td>\n",
       "      <td>120000</td>\n",
       "      <td>60000.0</td>\n",
       "      <td>15000.0</td>\n",
       "      <td>195000.0</td>\n",
       "      <td>Yes</td>\n",
       "      <td>SDE-T</td>\n",
       "      <td>3</td>\n",
       "      <td>7.4</td>\n",
       "      <td>['jamie.moody@gmail.com']</td>\n",
       "      <td>taxes</td>\n",
       "      <td>USA</td>\n",
       "    </tr>\n",
       "    <tr>\n",
       "      <th>466</th>\n",
       "      <td>467</td>\n",
       "      <td>Megan Rowe</td>\n",
       "      <td>55</td>\n",
       "      <td>80000</td>\n",
       "      <td>40000.0</td>\n",
       "      <td>10000.0</td>\n",
       "      <td>130000.0</td>\n",
       "      <td>No</td>\n",
       "      <td>SDE-T</td>\n",
       "      <td>3</td>\n",
       "      <td>8.2</td>\n",
       "      <td>['megan.rowe@gmail.com']</td>\n",
       "      <td>Alberta</td>\n",
       "      <td>Canada</td>\n",
       "    </tr>\n",
       "    <tr>\n",
       "      <th>468</th>\n",
       "      <td>469</td>\n",
       "      <td>Ashley Lopez</td>\n",
       "      <td>55</td>\n",
       "      <td>120000</td>\n",
       "      <td>60000.0</td>\n",
       "      <td>15000.0</td>\n",
       "      <td>195000.0</td>\n",
       "      <td>Yes</td>\n",
       "      <td>SDE</td>\n",
       "      <td>2</td>\n",
       "      <td>5.0</td>\n",
       "      <td>['ashley.lopez@gmail.com']</td>\n",
       "      <td>glassgorw</td>\n",
       "      <td>United Kingdom</td>\n",
       "    </tr>\n",
       "    <tr>\n",
       "      <th>490</th>\n",
       "      <td>491</td>\n",
       "      <td>Danny Franco</td>\n",
       "      <td>55</td>\n",
       "      <td>120000</td>\n",
       "      <td>60000.0</td>\n",
       "      <td>15000.0</td>\n",
       "      <td>195000.0</td>\n",
       "      <td>No</td>\n",
       "      <td>Logistics</td>\n",
       "      <td>6</td>\n",
       "      <td>9.3</td>\n",
       "      <td>['danny.franco@yahoo.com']</td>\n",
       "      <td>landom</td>\n",
       "      <td>United Kingdom</td>\n",
       "    </tr>\n",
       "    <tr>\n",
       "      <th>527</th>\n",
       "      <td>528</td>\n",
       "      <td>Larry Shepard</td>\n",
       "      <td>55</td>\n",
       "      <td>110000</td>\n",
       "      <td>55000.0</td>\n",
       "      <td>13750.0</td>\n",
       "      <td>178750.0</td>\n",
       "      <td>No</td>\n",
       "      <td>Admin</td>\n",
       "      <td>4</td>\n",
       "      <td>6.6</td>\n",
       "      <td>['larry.shepard@yahoo.com']</td>\n",
       "      <td>Quebec</td>\n",
       "      <td>Canada</td>\n",
       "    </tr>\n",
       "    <tr>\n",
       "      <th>561</th>\n",
       "      <td>562</td>\n",
       "      <td>John Smith</td>\n",
       "      <td>55</td>\n",
       "      <td>90000</td>\n",
       "      <td>45000.0</td>\n",
       "      <td>11250.0</td>\n",
       "      <td>146250.0</td>\n",
       "      <td>No</td>\n",
       "      <td>Logistics</td>\n",
       "      <td>6</td>\n",
       "      <td>6.6</td>\n",
       "      <td>['john.smith@outlook.com']</td>\n",
       "      <td>birmingham</td>\n",
       "      <td>United Kingdom</td>\n",
       "    </tr>\n",
       "    <tr>\n",
       "      <th>678</th>\n",
       "      <td>679</td>\n",
       "      <td>Aaron Douglas</td>\n",
       "      <td>55</td>\n",
       "      <td>80000</td>\n",
       "      <td>40000.0</td>\n",
       "      <td>10000.0</td>\n",
       "      <td>130000.0</td>\n",
       "      <td>Yes</td>\n",
       "      <td>SDE</td>\n",
       "      <td>4</td>\n",
       "      <td>9.3</td>\n",
       "      <td>['aaron.douglas@yahoo.com']</td>\n",
       "      <td>landom</td>\n",
       "      <td>United Kingdom</td>\n",
       "    </tr>\n",
       "    <tr>\n",
       "      <th>688</th>\n",
       "      <td>689</td>\n",
       "      <td>Joseph Spears</td>\n",
       "      <td>55</td>\n",
       "      <td>120000</td>\n",
       "      <td>60000.0</td>\n",
       "      <td>15000.0</td>\n",
       "      <td>195000.0</td>\n",
       "      <td>Yes</td>\n",
       "      <td>Accounts</td>\n",
       "      <td>3</td>\n",
       "      <td>6.6</td>\n",
       "      <td>['joseph.spears@yahoo.com']</td>\n",
       "      <td>alabama</td>\n",
       "      <td>USA</td>\n",
       "    </tr>\n",
       "    <tr>\n",
       "      <th>696</th>\n",
       "      <td>697</td>\n",
       "      <td>Anthony Barnes</td>\n",
       "      <td>55</td>\n",
       "      <td>90000</td>\n",
       "      <td>45000.0</td>\n",
       "      <td>11250.0</td>\n",
       "      <td>146250.0</td>\n",
       "      <td>No</td>\n",
       "      <td>SDE</td>\n",
       "      <td>5</td>\n",
       "      <td>9.3</td>\n",
       "      <td>['anthony.barnes@gmail.com']</td>\n",
       "      <td>manchester</td>\n",
       "      <td>United Kingdom</td>\n",
       "    </tr>\n",
       "    <tr>\n",
       "      <th>711</th>\n",
       "      <td>712</td>\n",
       "      <td>Hannah Forbes</td>\n",
       "      <td>55</td>\n",
       "      <td>120000</td>\n",
       "      <td>60000.0</td>\n",
       "      <td>15000.0</td>\n",
       "      <td>195000.0</td>\n",
       "      <td>No</td>\n",
       "      <td>SDE</td>\n",
       "      <td>5</td>\n",
       "      <td>6.6</td>\n",
       "      <td>['hannah.forbes@gmail.com']</td>\n",
       "      <td>bashkortostan</td>\n",
       "      <td>Russia</td>\n",
       "    </tr>\n",
       "    <tr>\n",
       "      <th>715</th>\n",
       "      <td>716</td>\n",
       "      <td>Lauren York</td>\n",
       "      <td>55</td>\n",
       "      <td>120000</td>\n",
       "      <td>60000.0</td>\n",
       "      <td>15000.0</td>\n",
       "      <td>195000.0</td>\n",
       "      <td>No</td>\n",
       "      <td>SDE</td>\n",
       "      <td>7</td>\n",
       "      <td>6.6</td>\n",
       "      <td>['lauren.york@yahoo.com']</td>\n",
       "      <td>indiana</td>\n",
       "      <td>USA</td>\n",
       "    </tr>\n",
       "    <tr>\n",
       "      <th>729</th>\n",
       "      <td>730</td>\n",
       "      <td>Kara Murphy</td>\n",
       "      <td>55</td>\n",
       "      <td>90000</td>\n",
       "      <td>45000.0</td>\n",
       "      <td>11250.0</td>\n",
       "      <td>146250.0</td>\n",
       "      <td>No</td>\n",
       "      <td>SDE-T</td>\n",
       "      <td>4</td>\n",
       "      <td>8.0</td>\n",
       "      <td>['kara.murphy@outlook.com']</td>\n",
       "      <td>alabama</td>\n",
       "      <td>USA</td>\n",
       "    </tr>\n",
       "    <tr>\n",
       "      <th>741</th>\n",
       "      <td>742</td>\n",
       "      <td>Robert Ball</td>\n",
       "      <td>55</td>\n",
       "      <td>120000</td>\n",
       "      <td>60000.0</td>\n",
       "      <td>15000.0</td>\n",
       "      <td>195000.0</td>\n",
       "      <td>No</td>\n",
       "      <td>Logistics</td>\n",
       "      <td>4</td>\n",
       "      <td>9.3</td>\n",
       "      <td>['robert.ball@outlook.com']</td>\n",
       "      <td>BritishColumbia</td>\n",
       "      <td>Canada</td>\n",
       "    </tr>\n",
       "    <tr>\n",
       "      <th>759</th>\n",
       "      <td>760</td>\n",
       "      <td>Charlotte Ramos</td>\n",
       "      <td>55</td>\n",
       "      <td>90000</td>\n",
       "      <td>45000.0</td>\n",
       "      <td>11250.0</td>\n",
       "      <td>146250.0</td>\n",
       "      <td>No</td>\n",
       "      <td>Admin</td>\n",
       "      <td>7</td>\n",
       "      <td>9.3</td>\n",
       "      <td>['charlotte.ramos@yahoo.com']</td>\n",
       "      <td>indiana</td>\n",
       "      <td>USA</td>\n",
       "    </tr>\n",
       "    <tr>\n",
       "      <th>772</th>\n",
       "      <td>773</td>\n",
       "      <td>Austin Cook</td>\n",
       "      <td>55</td>\n",
       "      <td>120000</td>\n",
       "      <td>60000.0</td>\n",
       "      <td>15000.0</td>\n",
       "      <td>195000.0</td>\n",
       "      <td>Yes</td>\n",
       "      <td>Logistics</td>\n",
       "      <td>1</td>\n",
       "      <td>7.4</td>\n",
       "      <td>['austin.cook@hotmail.com']</td>\n",
       "      <td>bashkortostan</td>\n",
       "      <td>Russia</td>\n",
       "    </tr>\n",
       "    <tr>\n",
       "      <th>889</th>\n",
       "      <td>890</td>\n",
       "      <td>Wendy Norton</td>\n",
       "      <td>55</td>\n",
       "      <td>120000</td>\n",
       "      <td>60000.0</td>\n",
       "      <td>15000.0</td>\n",
       "      <td>195000.0</td>\n",
       "      <td>Yes</td>\n",
       "      <td>Accounts</td>\n",
       "      <td>4</td>\n",
       "      <td>5.7</td>\n",
       "      <td>['wendy.norton@gmail.com']</td>\n",
       "      <td>taxes</td>\n",
       "      <td>USA</td>\n",
       "    </tr>\n",
       "    <tr>\n",
       "      <th>922</th>\n",
       "      <td>923</td>\n",
       "      <td>Taylor Garza</td>\n",
       "      <td>55</td>\n",
       "      <td>70000</td>\n",
       "      <td>35000.0</td>\n",
       "      <td>8750.0</td>\n",
       "      <td>113750.0</td>\n",
       "      <td>No</td>\n",
       "      <td>SDE</td>\n",
       "      <td>4</td>\n",
       "      <td>9.3</td>\n",
       "      <td>['taylor.garza@gmail.com']</td>\n",
       "      <td>adygea</td>\n",
       "      <td>Russia</td>\n",
       "    </tr>\n",
       "    <tr>\n",
       "      <th>940</th>\n",
       "      <td>941</td>\n",
       "      <td>Karen White</td>\n",
       "      <td>55</td>\n",
       "      <td>96000</td>\n",
       "      <td>48000.0</td>\n",
       "      <td>12000.0</td>\n",
       "      <td>156000.0</td>\n",
       "      <td>No</td>\n",
       "      <td>SDE</td>\n",
       "      <td>6</td>\n",
       "      <td>8.2</td>\n",
       "      <td>['karen.white@yahoo.com']</td>\n",
       "      <td>manchester</td>\n",
       "      <td>United Kingdom</td>\n",
       "    </tr>\n",
       "    <tr>\n",
       "      <th>989</th>\n",
       "      <td>990</td>\n",
       "      <td>Karen Lucas</td>\n",
       "      <td>55</td>\n",
       "      <td>80000</td>\n",
       "      <td>40000.0</td>\n",
       "      <td>10000.0</td>\n",
       "      <td>130000.0</td>\n",
       "      <td>No</td>\n",
       "      <td>SDE</td>\n",
       "      <td>7</td>\n",
       "      <td>4.5</td>\n",
       "      <td>['karen.lucas@reddit.com']</td>\n",
       "      <td>chechnya</td>\n",
       "      <td>Russia</td>\n",
       "    </tr>\n",
       "    <tr>\n",
       "      <th>990</th>\n",
       "      <td>991</td>\n",
       "      <td>Patrick Lane</td>\n",
       "      <td>55</td>\n",
       "      <td>60000</td>\n",
       "      <td>30000.0</td>\n",
       "      <td>7500.0</td>\n",
       "      <td>97500.0</td>\n",
       "      <td>No</td>\n",
       "      <td>SDE</td>\n",
       "      <td>3</td>\n",
       "      <td>9.3</td>\n",
       "      <td>['patrick.lane@outlook.com']</td>\n",
       "      <td>altai</td>\n",
       "      <td>Russia</td>\n",
       "    </tr>\n",
       "    <tr>\n",
       "      <th>991</th>\n",
       "      <td>992</td>\n",
       "      <td>Elizabeth Wheeler</td>\n",
       "      <td>55</td>\n",
       "      <td>120000</td>\n",
       "      <td>60000.0</td>\n",
       "      <td>15000.0</td>\n",
       "      <td>195000.0</td>\n",
       "      <td>No</td>\n",
       "      <td>Logistics</td>\n",
       "      <td>4</td>\n",
       "      <td>8.0</td>\n",
       "      <td>['elizabeth.wheeler@yahoo.com']</td>\n",
       "      <td>indiana</td>\n",
       "      <td>USA</td>\n",
       "    </tr>\n",
       "  </tbody>\n",
       "</table>\n",
       "</div>"
      ],
      "text/plain": [
       "      Id                  Name  Age  Base Pay  OverTime Pay  Benefits  \\\n",
       "15    16        Megan Chambers   55     80000       40000.0   10000.0   \n",
       "35    36           Erik Sutton   55    110000       55000.0   13750.0   \n",
       "42    43        Michael Cooper   55    120000       60000.0   15000.0   \n",
       "97    98          Frank Taylor   55     96000       48000.0   12000.0   \n",
       "124  125       Harold Johnston   55    120000       60000.0   15000.0   \n",
       "132  133         Audrey Barber   55    120000       60000.0   15000.0   \n",
       "173  174        Kayla Franklin   55    110000       55000.0   13750.0   \n",
       "186  187        Crystal Bryant   55     80000       40000.0   10000.0   \n",
       "204  205        Denise Manning   55    110000       55000.0   13750.0   \n",
       "213  214            Mark Hardy   55    120000       60000.0   15000.0   \n",
       "239  240     Dr. Ryan Mitchell   55    120000       60000.0   15000.0   \n",
       "290  291             Dawn Vega   55    110000       55000.0   13750.0   \n",
       "320  321        Benjamin Brown   55     90000       45000.0   11250.0   \n",
       "353  354  Mr. Nathan Underwood   55     80000       40000.0   10000.0   \n",
       "387  388          Nathan Brown   55    120000       60000.0   15000.0   \n",
       "419  420         Jessica Miles   55     50000       25000.0    6250.0   \n",
       "457  458           Jamie Moody   55    120000       60000.0   15000.0   \n",
       "466  467            Megan Rowe   55     80000       40000.0   10000.0   \n",
       "468  469          Ashley Lopez   55    120000       60000.0   15000.0   \n",
       "490  491          Danny Franco   55    120000       60000.0   15000.0   \n",
       "527  528         Larry Shepard   55    110000       55000.0   13750.0   \n",
       "561  562            John Smith   55     90000       45000.0   11250.0   \n",
       "678  679         Aaron Douglas   55     80000       40000.0   10000.0   \n",
       "688  689         Joseph Spears   55    120000       60000.0   15000.0   \n",
       "696  697        Anthony Barnes   55     90000       45000.0   11250.0   \n",
       "711  712         Hannah Forbes   55    120000       60000.0   15000.0   \n",
       "715  716           Lauren York   55    120000       60000.0   15000.0   \n",
       "729  730           Kara Murphy   55     90000       45000.0   11250.0   \n",
       "741  742           Robert Ball   55    120000       60000.0   15000.0   \n",
       "759  760       Charlotte Ramos   55     90000       45000.0   11250.0   \n",
       "772  773           Austin Cook   55    120000       60000.0   15000.0   \n",
       "889  890          Wendy Norton   55    120000       60000.0   15000.0   \n",
       "922  923          Taylor Garza   55     70000       35000.0    8750.0   \n",
       "940  941           Karen White   55     96000       48000.0   12000.0   \n",
       "989  990           Karen Lucas   55     80000       40000.0   10000.0   \n",
       "990  991          Patrick Lane   55     60000       30000.0    7500.0   \n",
       "991  992     Elizabeth Wheeler   55    120000       60000.0   15000.0   \n",
       "\n",
       "     Total Pay benefits Loan Department  Duration  Rating  \\\n",
       "15             130000.0   No        SDE         2     5.7   \n",
       "35             178750.0   No      SDE-T         7     9.3   \n",
       "42             195000.0  Yes        SDE         6     5.0   \n",
       "97             156000.0   No        SDE         7     8.9   \n",
       "124            195000.0   No        SDE         3     8.0   \n",
       "132            195000.0   No      Admin         3     9.3   \n",
       "173            178750.0   No   Accounts         6     7.4   \n",
       "186            130000.0  Yes      SDE-T         4     7.4   \n",
       "204            178750.0   No         Hr         1     8.2   \n",
       "213            195000.0   No      SDE-T         5     9.3   \n",
       "239            195000.0  Yes      SDE-T         2     9.3   \n",
       "290            178750.0  Yes         Hr         7     8.2   \n",
       "320            146250.0  Yes        SDE         4     6.6   \n",
       "353            130000.0  Yes        SDE         2     9.3   \n",
       "387            195000.0   No      SDE-T         5     5.7   \n",
       "419             81250.0   No        SDE         3     8.0   \n",
       "457            195000.0  Yes      SDE-T         3     7.4   \n",
       "466            130000.0   No      SDE-T         3     8.2   \n",
       "468            195000.0  Yes        SDE         2     5.0   \n",
       "490            195000.0   No  Logistics         6     9.3   \n",
       "527            178750.0   No      Admin         4     6.6   \n",
       "561            146250.0   No  Logistics         6     6.6   \n",
       "678            130000.0  Yes        SDE         4     9.3   \n",
       "688            195000.0  Yes   Accounts         3     6.6   \n",
       "696            146250.0   No        SDE         5     9.3   \n",
       "711            195000.0   No        SDE         5     6.6   \n",
       "715            195000.0   No        SDE         7     6.6   \n",
       "729            146250.0   No      SDE-T         4     8.0   \n",
       "741            195000.0   No  Logistics         4     9.3   \n",
       "759            146250.0   No      Admin         7     9.3   \n",
       "772            195000.0  Yes  Logistics         1     7.4   \n",
       "889            195000.0  Yes   Accounts         4     5.7   \n",
       "922            113750.0   No        SDE         4     9.3   \n",
       "940            156000.0   No        SDE         6     8.2   \n",
       "989            130000.0   No        SDE         7     4.5   \n",
       "990             97500.0   No        SDE         3     9.3   \n",
       "991            195000.0   No  Logistics         4     8.0   \n",
       "\n",
       "                               Email            State         Country  \n",
       "15     ['megan.chambers@reddit.com']          Alberta          Canada  \n",
       "35       ['erik.sutton@hotmail.com']     NewBrunswick          Canada  \n",
       "42    ['michael.cooper@outlook.com']         buryatia          Russia  \n",
       "97        ['frank.taylor@yahoo.com']           adygea          Russia  \n",
       "124  ['harold.johnston@outlook.com']         chechnya          Russia  \n",
       "132     ['audrey.barber@reddit.com']       birmingham  United Kingdom  \n",
       "173     ['kayla.franklin@gmail.com']         buryatia          Russia  \n",
       "186     ['crystal.bryant@yahoo.com']           landom  United Kingdom  \n",
       "204    ['denise.manning@reddit.com']         chechnya          Russia  \n",
       "213       ['mark.hardy@hotmail.com']          indiana             USA  \n",
       "239     ['dr..mitchell@hotmail.com']           adygea          Russia  \n",
       "290          ['dawn.vega@yahoo.com']         colarado             USA  \n",
       "320   ['benjamin.brown@hotmail.com']          indiana             USA  \n",
       "353     ['mr..underwood@reddit.com']          indiana             USA  \n",
       "387     ['nathan.brown@hotmail.com']            leeds  United Kingdom  \n",
       "419    ['jessica.miles@outlook.com']             utah             USA  \n",
       "457        ['jamie.moody@gmail.com']            taxes             USA  \n",
       "466         ['megan.rowe@gmail.com']          Alberta          Canada  \n",
       "468       ['ashley.lopez@gmail.com']        glassgorw  United Kingdom  \n",
       "490       ['danny.franco@yahoo.com']           landom  United Kingdom  \n",
       "527      ['larry.shepard@yahoo.com']           Quebec          Canada  \n",
       "561       ['john.smith@outlook.com']       birmingham  United Kingdom  \n",
       "678      ['aaron.douglas@yahoo.com']           landom  United Kingdom  \n",
       "688      ['joseph.spears@yahoo.com']          alabama             USA  \n",
       "696     ['anthony.barnes@gmail.com']       manchester  United Kingdom  \n",
       "711      ['hannah.forbes@gmail.com']    bashkortostan          Russia  \n",
       "715        ['lauren.york@yahoo.com']          indiana             USA  \n",
       "729      ['kara.murphy@outlook.com']          alabama             USA  \n",
       "741      ['robert.ball@outlook.com']  BritishColumbia          Canada  \n",
       "759    ['charlotte.ramos@yahoo.com']          indiana             USA  \n",
       "772      ['austin.cook@hotmail.com']    bashkortostan          Russia  \n",
       "889       ['wendy.norton@gmail.com']            taxes             USA  \n",
       "922       ['taylor.garza@gmail.com']           adygea          Russia  \n",
       "940        ['karen.white@yahoo.com']       manchester  United Kingdom  \n",
       "989       ['karen.lucas@reddit.com']         chechnya          Russia  \n",
       "990     ['patrick.lane@outlook.com']            altai          Russia  \n",
       "991  ['elizabeth.wheeler@yahoo.com']          indiana             USA  "
      ]
     },
     "execution_count": 18,
     "metadata": {},
     "output_type": "execute_result"
    }
   ],
   "source": [
    "# filterr = df['Name'].where(df['Age']==df['Age'].max())\n",
    "# filterr\n",
    "# df[df['Name']==filterr]\n"
   ]
  },
  {
   "cell_type": "markdown",
   "id": "e4fcbaa0",
   "metadata": {},
   "source": [
    "9. What is the name of the most senior employee with respect to working duration?"
   ]
  },
  {
   "cell_type": "code",
   "execution_count": 28,
   "id": "746cb975",
   "metadata": {},
   "outputs": [
    {
     "data": {
      "text/plain": [
       "Duration\n",
       "1    138\n",
       "2    143\n",
       "3    153\n",
       "4    140\n",
       "5    153\n",
       "6    122\n",
       "7    151\n",
       "Name: Name, dtype: int64"
      ]
     },
     "execution_count": 28,
     "metadata": {},
     "output_type": "execute_result"
    }
   ],
   "source": [
    "df.groupby('Duration')['Name'].size()"
   ]
  },
  {
   "cell_type": "code",
   "execution_count": 29,
   "id": "112b399b",
   "metadata": {},
   "outputs": [
    {
     "data": {
      "text/plain": [
       "7"
      ]
     },
     "execution_count": 29,
     "metadata": {},
     "output_type": "execute_result"
    }
   ],
   "source": [
    "df['Duration'].max()"
   ]
  },
  {
   "cell_type": "code",
   "execution_count": 34,
   "id": "3d6a31c9",
   "metadata": {},
   "outputs": [
    {
     "data": {
      "text/plain": [
       "0      Marcia Stephens\n",
       "9          Steven Lynn\n",
       "16        Steven Hicks\n",
       "28       James Wilkins\n",
       "32         Troy Thomas\n",
       "            ...       \n",
       "964     Joseph Johnson\n",
       "973      Rachel Harris\n",
       "975      Melissa Leach\n",
       "989        Karen Lucas\n",
       "998         Cindy Knox\n",
       "Name: Name, Length: 151, dtype: object"
      ]
     },
     "execution_count": 34,
     "metadata": {},
     "output_type": "execute_result"
    }
   ],
   "source": [
    "duration_sr = df.groupby('Duration')['Name'].get_group(df['Duration'].max())\n",
    "duration_sr"
   ]
  },
  {
   "cell_type": "markdown",
   "id": "14366345",
   "metadata": {},
   "source": [
    "10. What is the salary of the employee whose name is Maria Williams"
   ]
  },
  {
   "cell_type": "code",
   "execution_count": 37,
   "id": "573456a0",
   "metadata": {},
   "outputs": [
    {
     "data": {
      "text/plain": [
       "808    156000.0\n",
       "Name: Total Pay benefits, dtype: float64"
      ]
     },
     "execution_count": 37,
     "metadata": {},
     "output_type": "execute_result"
    }
   ],
   "source": [
    "df['Total Pay benefits'].loc[df['Name']=='Maria Williams']"
   ]
  },
  {
   "cell_type": "markdown",
   "id": "e7807216",
   "metadata": {},
   "source": [
    "11. What is the salary of the employee whose Virginia Hogan and age is 30"
   ]
  },
  {
   "cell_type": "code",
   "execution_count": 38,
   "id": "79bbab5e",
   "metadata": {},
   "outputs": [
    {
     "data": {
      "text/plain": [
       "406    195000.0\n",
       "Name: Total Pay benefits, dtype: float64"
      ]
     },
     "execution_count": 38,
     "metadata": {},
     "output_type": "execute_result"
    }
   ],
   "source": [
    "df['Total Pay benefits'].loc[(df['Name']=='Virginia Hogan') & (df['Age']==30)]"
   ]
  },
  {
   "cell_type": "markdown",
   "id": "0a8feb4d",
   "metadata": {},
   "source": [
    "12. What are the different departments, this organization has?"
   ]
  },
  {
   "cell_type": "code",
   "execution_count": 40,
   "id": "21434c7e",
   "metadata": {},
   "outputs": [
    {
     "data": {
      "text/plain": [
       "array(['SDE', 'SDE-T', 'Admin', 'Logistics', 'Hr', 'Accounts'],\n",
       "      dtype=object)"
      ]
     },
     "execution_count": 40,
     "metadata": {},
     "output_type": "execute_result"
    }
   ],
   "source": [
    "df['Department'].unique()"
   ]
  },
  {
   "cell_type": "markdown",
   "id": "b936d999",
   "metadata": {},
   "source": [
    "13. What are total frequency of the employees with respect to each department?"
   ]
  },
  {
   "cell_type": "code",
   "execution_count": 41,
   "id": "271d0a59",
   "metadata": {},
   "outputs": [
    {
     "data": {
      "text/plain": [
       "SDE          497\n",
       "SDE-T        175\n",
       "Logistics    158\n",
       "Accounts      65\n",
       "Admin         53\n",
       "Hr            52\n",
       "Name: Department, dtype: int64"
      ]
     },
     "execution_count": 41,
     "metadata": {},
     "output_type": "execute_result"
    }
   ],
   "source": [
    "df['Department'].value_counts()"
   ]
  },
  {
   "cell_type": "markdown",
   "id": "1a901bc6",
   "metadata": {},
   "source": [
    "14. What percentage of employee work in SDE deparment"
   ]
  },
  {
   "cell_type": "code",
   "execution_count": 43,
   "id": "5e8b2b03",
   "metadata": {},
   "outputs": [
    {
     "data": {
      "text/plain": [
       "SDE          49.7\n",
       "SDE-T        17.5\n",
       "Logistics    15.8\n",
       "Accounts      6.5\n",
       "Admin         5.3\n",
       "Hr            5.2\n",
       "Name: Department, dtype: float64"
      ]
     },
     "execution_count": 43,
     "metadata": {},
     "output_type": "execute_result"
    }
   ],
   "source": [
    "df['Department'].value_counts()/len(df['Department'])*100"
   ]
  },
  {
   "cell_type": "markdown",
   "id": "a2317e2c",
   "metadata": {},
   "source": [
    "15. What is the average rating of an employee with respect to each department"
   ]
  },
  {
   "cell_type": "code",
   "execution_count": 44,
   "id": "3227299c",
   "metadata": {},
   "outputs": [
    {
     "data": {
      "text/plain": [
       "Department\n",
       "Accounts     7.750769\n",
       "Admin        8.060377\n",
       "Hr           8.150000\n",
       "Logistics    7.955063\n",
       "SDE          7.894769\n",
       "SDE-T        7.652571\n",
       "Name: Rating, dtype: float64"
      ]
     },
     "execution_count": 44,
     "metadata": {},
     "output_type": "execute_result"
    }
   ],
   "source": [
    "df.groupby('Department').Rating.mean()"
   ]
  },
  {
   "cell_type": "markdown",
   "id": "021ecdeb",
   "metadata": {},
   "source": [
    "16. what is the average salary of an employee with respect to each country"
   ]
  },
  {
   "cell_type": "code",
   "execution_count": 45,
   "id": "972dc170",
   "metadata": {},
   "outputs": [
    {
     "data": {
      "text/plain": [
       "Country\n",
       "Canada            152776.104418\n",
       "Russia            151662.244898\n",
       "USA               152999.087591\n",
       "United Kingdom    154487.068966\n",
       "Name: Total Pay benefits, dtype: float64"
      ]
     },
     "execution_count": 45,
     "metadata": {},
     "output_type": "execute_result"
    }
   ],
   "source": [
    "df.groupby('Country')['Total Pay benefits'].mean()"
   ]
  },
  {
   "cell_type": "markdown",
   "id": "4e82ef52",
   "metadata": {},
   "source": [
    "17. What is the average salary of SDE profile with respect to each country"
   ]
  },
  {
   "cell_type": "code",
   "execution_count": 87,
   "id": "14b7eed8",
   "metadata": {},
   "outputs": [
    {
     "data": {
      "text/plain": [
       "Country\n",
       "Canada            150953.252033\n",
       "Russia            150455.882353\n",
       "USA               151765.151515\n",
       "United Kingdom    155656.504065\n",
       "Name: Total Pay benefits, dtype: float64"
      ]
     },
     "execution_count": 87,
     "metadata": {},
     "output_type": "execute_result"
    }
   ],
   "source": [
    "sde = df.groupby(['Department']).get_group('SDE')\n",
    "sde.groupby('Country')['Total Pay benefits'].mean()"
   ]
  },
  {
   "cell_type": "markdown",
   "id": "a96110bf",
   "metadata": {},
   "source": [
    "19. What is the average salary of the employee who take taken the loan\n"
   ]
  },
  {
   "cell_type": "code",
   "execution_count": 83,
   "id": "41e2bf61",
   "metadata": {},
   "outputs": [
    {
     "data": {
      "text/plain": [
       "151902.5787965616"
      ]
     },
     "execution_count": 83,
     "metadata": {},
     "output_type": "execute_result"
    }
   ],
   "source": [
    "df.groupby('Loan').get_group('Yes')['Total Pay benefits'].mean()"
   ]
  },
  {
   "cell_type": "code",
   "execution_count": 82,
   "id": "e3555653",
   "metadata": {},
   "outputs": [
    {
     "data": {
      "text/plain": [
       "151902.5787965616"
      ]
     },
     "execution_count": 82,
     "metadata": {},
     "output_type": "execute_result"
    }
   ],
   "source": [
    "df_loan = df.loc[df['Loan']=='Yes']\n",
    "df_loan['Total Pay benefits'].mean()"
   ]
  },
  {
   "cell_type": "markdown",
   "id": "627887da",
   "metadata": {},
   "source": [
    "20. What are the top 5 domain name used in Employee email id's"
   ]
  },
  {
   "cell_type": "code",
   "execution_count": 74,
   "id": "9e17f834",
   "metadata": {},
   "outputs": [],
   "source": [
    "def domain(x):\n",
    "    if x:\n",
    "        if x:= x.split('@')[-1]:\n",
    "                return x.split('.')[0]\n"
   ]
  },
  {
   "cell_type": "code",
   "execution_count": 75,
   "id": "8bcff319",
   "metadata": {},
   "outputs": [],
   "source": [
    "df['domain'] = df['Email'].map(domain)"
   ]
  },
  {
   "cell_type": "code",
   "execution_count": 79,
   "id": "54f791d7",
   "metadata": {},
   "outputs": [
    {
     "data": {
      "text/plain": [
       "outlook    213\n",
       "hotmail    205\n",
       "yahoo      205\n",
       "gmail      198\n",
       "reddit     179\n",
       "Name: domain, dtype: int64"
      ]
     },
     "execution_count": 79,
     "metadata": {},
     "output_type": "execute_result"
    }
   ],
   "source": [
    "df['domain'].value_counts().head()"
   ]
  },
  {
   "cell_type": "code",
   "execution_count": null,
   "id": "939a425e",
   "metadata": {},
   "outputs": [],
   "source": []
  }
 ],
 "metadata": {
  "kernelspec": {
   "display_name": "Python 3 (ipykernel)",
   "language": "python",
   "name": "python3"
  },
  "language_info": {
   "codemirror_mode": {
    "name": "ipython",
    "version": 3
   },
   "file_extension": ".py",
   "mimetype": "text/x-python",
   "name": "python",
   "nbconvert_exporter": "python",
   "pygments_lexer": "ipython3",
   "version": "3.10.4"
  }
 },
 "nbformat": 4,
 "nbformat_minor": 5
}
